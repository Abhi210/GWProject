{
 "cells": [
  {
   "cell_type": "code",
   "execution_count": 1,
   "metadata": {},
   "outputs": [],
   "source": [
    "import numpy as np\n",
    "import einsteinpy as enp\n",
    "import scipy as sp\n",
    "import sympy as smp\n",
    "import astropy.units as u\n",
    "import einsteinpy as epy\n",
    "from einsteinpy.coordinates import BoyerLindquistDifferential\n",
    "from einsteinpy.metric import Kerr\n",
    "from einsteinpy.symbolic import ChristoffelSymbols, MetricTensor"
   ]
  },
  {
   "cell_type": "code",
   "execution_count": 2,
   "metadata": {},
   "outputs": [],
   "source": [
    "%load_ext snoop"
   ]
  },
  {
   "cell_type": "code",
   "execution_count": 3,
   "metadata": {},
   "outputs": [],
   "source": [
    "import itertools\n",
    "\n",
    "\n",
    "def levi_cevita_tensor(dim):\n",
    "    arr = np.zeros(tuple([dim for _ in range(dim)]))\n",
    "    for x in itertools.permutations(tuple(range(dim))):\n",
    "        mat = np.zeros((dim, dim), dtype=np.int32)\n",
    "        for i, j in zip(range(dim), x):\n",
    "            mat[i, j] = 1\n",
    "        arr[x] = int(np.linalg.det(mat))\n",
    "    return arr"
   ]
  },
  {
   "cell_type": "code",
   "execution_count": 4,
   "metadata": {},
   "outputs": [],
   "source": [
    "def antisymmetrize(arr):\n",
    "    arr = np.swapaxes(arr, -2, -1)\n",
    "    anti_arr = arr - np.swapaxes(arr, -2, -1)\n",
    "    anti_tensor=np.swapaxes(anti_arr,-2,-1)\n",
    "    return anti_tensor"
   ]
  },
  {
   "cell_type": "code",
   "execution_count": 5,
   "metadata": {},
   "outputs": [],
   "source": [
    "def symmetrize(arr):\n",
    "    #! Need To Work Over This\n",
    "    toput = np.diagonal(arr, 0, 1, 2)\n",
    "    de_ = np.zeros((4, 4, 4))\n",
    "\n",
    "\n",
    "    idx = np.arange(de_.shape[0])\n",
    "    de_[:, idx, idx] = toput\n",
    "\n",
    "    return arr+np.transpose(arr,(0,2,1))-de_"
   ]
  },
  {
   "cell_type": "code",
   "execution_count": 6,
   "metadata": {},
   "outputs": [],
   "source": [
    "def metric_tensor(a, r, theta,M=1):\n",
    "    \"\"\"\n",
    "    Define the metric tensor function.\n",
    "\n",
    "    Parameters:\n",
    "        a (float): Parameter 'a' in the metric.\n",
    "        r (float): Parameter 'r' in the metric.\n",
    "        theta (float): Parameter 'theta' in the metric.\n",
    "\n",
    "    Returns:\n",
    "        np.ndarray: The metric tensor at the given values of a, r, and theta.\n",
    "    \"\"\"\n",
    "    g = np.array(\n",
    "        [\n",
    "            [\n",
    "                (-(a**2) + 2 * M * r - r**2 + a**2 * np.sin(theta) ** 2)\n",
    "                / (r**2 + a**2 * np.cos(theta) ** 2),\n",
    "                0,\n",
    "                0,\n",
    "                -(\n",
    "                    (2 * a * M * r * np.sin(theta) ** 2)\n",
    "                    / (r**2 + a**2 * np.cos(theta) ** 2)\n",
    "                ),\n",
    "            ],\n",
    "            [\n",
    "                0,\n",
    "                (r**2 + a**2 * np.cos(theta) ** 2) / (a**2 - 2 * M * r + r**2),\n",
    "                0,\n",
    "                0,\n",
    "            ],\n",
    "            [0, 0, r**2 + a**2 * np.cos(theta) ** 2, 0],\n",
    "            [\n",
    "                -(\n",
    "                    (2 * a * M * r * np.sin(theta) ** 2)\n",
    "                    / (r**2 + a**2 * np.cos(theta) ** 2)\n",
    "                ),\n",
    "                0,\n",
    "                0,\n",
    "                (\n",
    "                    np.sin(theta) ** 2\n",
    "                    * (\n",
    "                        (a**2 + r**2) ** 2\n",
    "                        - a**2 * (a**2 - 2 * M * r + r**2) * np.sin(theta) ** 2\n",
    "                    )\n",
    "                )\n",
    "                / (r**2 + a**2 * np.cos(theta) ** 2),\n",
    "            ],\n",
    "        ]\n",
    "    )\n",
    "\n",
    "    return g"
   ]
  },
  {
   "cell_type": "code",
   "execution_count": 7,
   "metadata": {},
   "outputs": [],
   "source": [
    "def kerr_christoffel(r, theta, a, M=1):\n",
    "    cs = np.zeros((4, 4, 4))\n",
    "\n",
    "    # Definitions\n",
    "    Delta = a**2 - 2 * M * r + r**2\n",
    "    scA = (r**2 + a**2) ** 2 - Delta * a**2 * np.sin(theta) ** 2\n",
    "    omega_k = 2 * M * a * r / scA\n",
    "    Sigma = r**2 + a**2 * np.cos(theta) ** 2\n",
    "\n",
    "    cs[3, 0, 1] = M * (2 * r**2 - Sigma) / (Delta * Sigma**2) * a\n",
    "    cs[0, 0, 1] = cs[3, 0, 1] * (r**2 + a**2) / a\n",
    "\n",
    "    cs[3, 0, 2] = -2 * M * a * r / (np.tan(theta) * Sigma**2)\n",
    "    cs[0, 0, 2] = a * np.sin(theta) ** 2 * cs[3, 0, 2]\n",
    "\n",
    "    cs[0, 1, 3] = (\n",
    "        -M\n",
    "        * a\n",
    "        * (2 * r**2 * (r**2 + a**2) + Sigma * (r**2 - a**2))\n",
    "        * np.sin(theta) ** 2\n",
    "        / (Delta * Sigma**2)\n",
    "    )\n",
    "\n",
    "    cs[3, 1, 3] = (\n",
    "        r * Sigma * (Sigma - 2 * M * r)\n",
    "        - M * a**2 * (2 * r**2 - Sigma) * np.sin(theta) ** 2\n",
    "    ) / (Delta * Sigma**2)\n",
    "\n",
    "    cs[0, 2, 3] = M * a**3 * r * np.sin(theta) ** 2 * np.sin(2 * theta) / Sigma**2\n",
    "\n",
    "    cs[3, 2, 3] = (scA - Sigma * a**2 * np.sin(theta) ** 2) / (\n",
    "        np.tan(theta) * Sigma**2\n",
    "    )\n",
    "\n",
    "    cs[1, 0, 0] = M * Delta * (2 * r**2 - Sigma) / Sigma**3\n",
    "\n",
    "    cs[1, 0, 3] = -cs[1, 0, 0] * a * np.sin(theta) ** 2\n",
    "\n",
    "    cs[2, 0, 0] = -M * a * r * np.sin(2 * theta) / Sigma**3 * a\n",
    "    cs[2, 0, 3] = -cs[2, 0, 0] * (r**2 + a**2) / a\n",
    "\n",
    "    cs[1, 1, 1] = r / Sigma + (M - r) / Delta\n",
    "\n",
    "    cs[1, 2, 2] = -r * Delta / Sigma\n",
    "    cs[2, 1, 2] = -cs[1, 2, 2] / Delta\n",
    "\n",
    "    cs[1, 1, 2] = cs[2, 2, 2] = -(a**2) * np.sin(2 * theta) / (2 * Sigma)\n",
    "    cs[2, 1, 1] = -cs[1, 1, 2] / Delta\n",
    "\n",
    "    cs[1, 3, 3] = (\n",
    "        -Delta\n",
    "        * (r * Sigma**2 - M * a**2 * (2 * r**2 - Sigma) * np.sin(theta) ** 2)\n",
    "        * np.sin(theta) ** 2\n",
    "        / Sigma**3\n",
    "    )\n",
    "\n",
    "    cs[2, 3, 3] = (\n",
    "        -(Delta * Sigma**2 + 2 * M * r * (r**2 + a**2) ** 2)\n",
    "        * np.sin(2 * theta)\n",
    "        / (2 * Sigma**3)\n",
    "    )\n",
    "\n",
    "    return symmetrize(cs)\n",
    "    # return cs"
   ]
  },
  {
   "cell_type": "code",
   "execution_count": 8,
   "metadata": {},
   "outputs": [],
   "source": [
    "def kerr_riemann_tensor(a,r, theta, M=1,config='ulll'):\n",
    "    # Define variables\n",
    "    # a, r, theta = np.symbols('a r theta')\n",
    "\n",
    "    # Components of the Riemann tensor for Kerr Metric\n",
    "    rijkl = np.zeros((4, 4, 4, 4))\n",
    "\n",
    "    X = r**2 - 3 * a**2 * np.cos(theta) ** 2\n",
    "    Y = 3 * r**2 - a**2 * np.cos(theta) ** 2\n",
    "\n",
    "    # Definitions\n",
    "    Delta = a**2 - 2 * M * r + r**2\n",
    "    scA = (r**2 + a**2) ** 2 - Delta * a**2 * np.sin(theta) ** 2\n",
    "    omega_k = 2 * M * a * r / scA\n",
    "    Sigma = r**2 + a**2 * np.cos(theta) ** 2\n",
    "\n",
    "    rijkl[0, 0, 0, 3] = 2 * M**2 * a * r**2 * X * np.sin(theta) ** 2 / Sigma**4\n",
    "    rijkl[3, 3, 0, 3] = -rijkl[0, 0, 0, 3]\n",
    "    rijkl[0, 3, 0, 3] = -rijkl[0, 0, 0, 3] / omega_k\n",
    "    rijkl[3, 0, 0, 3] = -rijkl[0, 0, 0, 3] / (\n",
    "        2 * M * a * r / (Delta - a**2 * np.sin(theta) ** 2)\n",
    "    )\n",
    "\n",
    "    rijkl[0, 0, 1, 2] = -(\n",
    "        M**2 * a**2 * r * Y * np.sin(2 * theta) / (Delta * Sigma**3)\n",
    "    )\n",
    "    rijkl[3, 3, 1, 2] = -rijkl[0, 0, 1, 2]\n",
    "    rijkl[0, 3, 1, 2] = -rijkl[0, 0, 1, 2] / omega_k\n",
    "    rijkl[3, 0, 1, 2] = -rijkl[0, 0, 1, 2] / (\n",
    "        2 * M * a * r / (Delta - a**2 * np.sin(theta) ** 2)\n",
    "    )\n",
    "\n",
    "    rijkl[3, 2, 2, 3] = -(\n",
    "        M * r * X * (2 * (r**2 + a**2) + a**2 * np.sin(theta) ** 2) / Sigma**3\n",
    "    )\n",
    "\n",
    "    rijkl[0, 1, 0, 1] = -rijkl[3, 2, 2, 3] / Delta\n",
    "\n",
    "    rijkl[0, 2, 0, 2] = -(\n",
    "        M * r * X * ((r**2 + a**2) + 2 * a**2 * np.sin(theta) ** 2) / Sigma**3\n",
    "    )\n",
    "\n",
    "    rijkl[3, 1, 1, 3] = -rijkl[0, 2, 0, 2] / Delta\n",
    "\n",
    "    rijkl[0, 1, 0, 2] = rijkl[3, 2, 1, 3] = (\n",
    "        -M\n",
    "        * a**2\n",
    "        / (Delta * Sigma**3)\n",
    "        * Y\n",
    "        * (3 * (r**2 + a**2) - 2 * M * r)\n",
    "        * np.sin(theta)\n",
    "        * np.cos(theta)\n",
    "    )\n",
    "\n",
    "    rijkl[0, 2, 0, 1] = rijkl[3, 2, 1, 3] = (\n",
    "        -M\n",
    "        * a**2\n",
    "        / (Delta * Sigma**3)\n",
    "        * Y\n",
    "        * (3 * (r**2 + a**2) - 4 * M * r)\n",
    "        * np.sin(theta)\n",
    "        * np.cos(theta)\n",
    "    )\n",
    "\n",
    "    rijkl[3, 2, 0, 2] = -3 * M * a * r * X / Sigma**3\n",
    "    rijkl[3, 1, 0, 1] = -rijkl[3, 2, 0, 2] / Delta\n",
    "\n",
    "    rijkl[0, 2, 2, 3] = rijkl[3, 2, 0, 2] * np.sin(theta) ** 2 * (r**2 + a**2)\n",
    "    rijkl[0, 1, 1, 3] = -rijkl[0, 2, 2, 3] / Delta\n",
    "\n",
    "    rijkl[1, 0, 0, 2] = (\n",
    "        -3 * M * a**2 * Delta / Sigma**4 * Y * np.sin(theta) * np.cos(theta)\n",
    "    )\n",
    "    rijkl[2, 0, 0, 1] = rijkl[1, 0, 0, 2] / Delta\n",
    "\n",
    "    rijkl[1, 0, 1, 3] = (\n",
    "        M\n",
    "        * a\n",
    "        * r\n",
    "        / Sigma**4\n",
    "        * X\n",
    "        * np.sin(theta) ** 2\n",
    "        * (3 * (r**2 + a**2) - 4 * M * r)\n",
    "    )\n",
    "    rijkl[1, 3, 0, 1] = -rijkl[1, 0, 1, 3]\n",
    "\n",
    "    rijkl[2, 0, 2, 3] = -(\n",
    "        M\n",
    "        * a\n",
    "        * r\n",
    "        / Sigma**4\n",
    "        * X\n",
    "        * np.sin(theta) ** 2\n",
    "        * (3 * (r**2 + a**2) - 2 * M * r)\n",
    "    )\n",
    "\n",
    "    rijkl[2, 3, 0, 2] = -rijkl[2, 0, 2, 3]\n",
    "\n",
    "    rijkl[1, 0, 2, 3] = (\n",
    "        -M\n",
    "        * a\n",
    "        * Delta\n",
    "        / Sigma**4\n",
    "        * Y\n",
    "        * np.sin(theta)\n",
    "        * np.cos(theta)\n",
    "        * (2 * (r**2 + a**2) + a**2 * np.sin(theta) ** 2)\n",
    "    )\n",
    "    rijkl[2, 3, 0, 1] = -rijkl[1, 0, 2, 3] / Delta\n",
    "\n",
    "    rijkl[1, 3, 0, 2] = (\n",
    "        M\n",
    "        * a\n",
    "        * Delta\n",
    "        / Sigma**4\n",
    "        * Y\n",
    "        * np.sin(theta)\n",
    "        * np.cos(theta)\n",
    "        * ((r**2 + a**2) + 2 * a**2 * np.sin(theta) ** 2)\n",
    "    )\n",
    "\n",
    "    rijkl[2, 0, 1, 3] = -rijkl[1, 3, 0, 2] / Delta\n",
    "\n",
    "    rijkl[1, 2, 0, 3] = Delta**2 * rijkl[0, 0, 1, 2] / (2 * M * a * r)\n",
    "    rijkl[2, 1, 0, 3] = -rijkl[1, 2, 0, 3] / Delta\n",
    "\n",
    "    rijkl[1, 3, 2, 3] = -(r**2 + a**2) * np.sin(theta) ** 2 * rijkl[1, 0, 0, 2]\n",
    "    rijkl[2, 3, 1, 3] = rijkl[1, 3, 2, 3] / Delta\n",
    "\n",
    "    rijkl[1, 2, 1, 2] = -M * r * X / Sigma**2\n",
    "    rijkl[2, 1, 1, 2] = -rijkl[1, 2, 1, 2] / Delta\n",
    "\n",
    "    rijkl[0, 1, 2, 3] = (\n",
    "        -M\n",
    "        * a\n",
    "        * Y\n",
    "        * (2 * (r**2 + a**2) ** 2 + Delta * a**2 * np.sin(theta) ** 2)\n",
    "        * np.sin(theta)\n",
    "        * np.cos(theta)\n",
    "        / (Delta * Sigma**3)\n",
    "    )\n",
    "    rijkl[0, 2, 1, 3] = (\n",
    "        -M\n",
    "        * a\n",
    "        * Y\n",
    "        * ((r**2 + a**2) ** 2 + 2 * Delta * a**2 * np.sin(theta) ** 2)\n",
    "        * np.sin(theta)\n",
    "        * np.cos(theta)\n",
    "        / (Delta * Sigma**3)\n",
    "    )\n",
    "\n",
    "    rijkl[3, 1, 0, 2] = (\n",
    "        -M\n",
    "        * a\n",
    "        * Y\n",
    "        * (Delta + 2 * a**2 * np.sin(theta) ** 2)\n",
    "        / (np.tan(theta) * Delta * Sigma**3)\n",
    "    )\n",
    "    rijkl[3, 2, 0, 1] = (\n",
    "        -M\n",
    "        * a\n",
    "        * Y\n",
    "        * (2 * Delta + a**2 * np.sin(theta) ** 2)\n",
    "        / (np.tan(theta) * Delta * Sigma**3)\n",
    "    )\n",
    "\n",
    "    rijkl[1, 0, 0, 1] = (\n",
    "        M * r * X * (2 * Delta + a**2 * np.sin(theta) ** 2) / Sigma**4\n",
    "    )\n",
    "\n",
    "    rijkl[2, 0, 0, 2] = -(\n",
    "        M * r * X * (Delta + 2 * a**2 * np.sin(theta) ** 2) / Sigma**4\n",
    "    )\n",
    "\n",
    "    rijkl[1, 3, 1, 3] = (\n",
    "        -M\n",
    "        * r\n",
    "        * X\n",
    "        * ((r**2 + a**2) ** 2 + 2 * Delta * a**2 * np.sin(theta) ** 2)\n",
    "        * np.sin(theta) ** 2\n",
    "        / Sigma**4\n",
    "    )\n",
    "    rijkl[2, 3, 2, 3] = (\n",
    "        M\n",
    "        * r\n",
    "        * X\n",
    "        * (2*(r**2 + a**2) ** 2 +  Delta * a**2 * np.sin(theta) ** 2)\n",
    "        * np.sin(theta) ** 2\n",
    "        / Sigma**4\n",
    "    )\n",
    "\n",
    "    if config=='ulll':\n",
    "        return antisymmetrize(rijkl)\n",
    "    else:\n",
    "        return np.einsum(\"ij,jklm->iklm\",metric_tensor(a,r,theta),rijkl)"
   ]
  },
  {
   "cell_type": "code",
   "execution_count": 9,
   "metadata": {},
   "outputs": [],
   "source": [
    "# Metric or Black Hole parameters - Mass, M and Spin Parameter, a\n",
    "M = 1"
   ]
  },
  {
   "cell_type": "code",
   "execution_count": 10,
   "metadata": {},
   "outputs": [],
   "source": [
    "Vin = 0.5  # Relative velocity in the units of c\n",
    "\n",
    "alpha_s = 0.0\n",
    "beta_s = np.pi / 2  # Angular Coordinates for spin Orientation\n",
    "\n",
    "alpha_v = 0.0\n",
    "beta_v = np.pi / 2  # Angular Coordinates for Velocity Orientation\n",
    "\n",
    "sin = 0.02  # Initial Magnitude of Spin\n",
    "\n",
    "a0 = 1 / np.sqrt(2)\n",
    "r0 = 10**6\n",
    "theta0 = np.pi / 2  # Parameters for Black Hole and the Particle Position\n"
   ]
  },
  {
   "cell_type": "code",
   "execution_count": 11,
   "metadata": {},
   "outputs": [],
   "source": [
    "# Definitions\n",
    "Delta = a0**2 - 2 * M * r0 + r0**2\n",
    "scA = (r0**2 + a0**2) ** 2 - Delta * a0**2 * np.sin(theta0) ** 2\n",
    "omega_k = 2 * M * a0 * r0 / scA\n",
    "Sigma = r0**2 + a0**2 * np.cos(theta0) ** 2"
   ]
  },
  {
   "cell_type": "code",
   "execution_count": 12,
   "metadata": {},
   "outputs": [],
   "source": [
    "# Initial Velocity\n",
    "uhoo = np.sqrt(scA / (Delta * Sigma)) * np.array([1, 0, 0, omega_k])"
   ]
  },
  {
   "cell_type": "code",
   "execution_count": 13,
   "metadata": {},
   "outputs": [
    {
     "data": {
      "text/plain": [
       "array([1.00000100e+00, 0.00000000e+00, 0.00000000e+00, 1.41421498e-18])"
      ]
     },
     "execution_count": 13,
     "metadata": {},
     "output_type": "execute_result"
    }
   ],
   "source": [
    "uhoo"
   ]
  },
  {
   "cell_type": "code",
   "execution_count": 14,
   "metadata": {},
   "outputs": [],
   "source": [
    "gk=metric_tensor(a0,r0,np.pi/2)"
   ]
  },
  {
   "cell_type": "code",
   "execution_count": 15,
   "metadata": {},
   "outputs": [
    {
     "data": {
      "text/plain": [
       "array([[-9.99998000e-01,  0.00000000e+00,  0.00000000e+00,\n",
       "        -1.41421356e-06],\n",
       "       [ 0.00000000e+00,  1.00000200e+00,  0.00000000e+00,\n",
       "         0.00000000e+00],\n",
       "       [ 0.00000000e+00,  0.00000000e+00,  1.00000000e+12,\n",
       "         0.00000000e+00],\n",
       "       [-1.41421356e-06,  0.00000000e+00,  0.00000000e+00,\n",
       "         1.00000000e+12]])"
      ]
     },
     "execution_count": 15,
     "metadata": {},
     "output_type": "execute_result"
    }
   ],
   "source": [
    "gk"
   ]
  },
  {
   "cell_type": "code",
   "execution_count": 16,
   "metadata": {},
   "outputs": [],
   "source": [
    "# Tensor components calculation\n",
    "\n",
    "v4,s4= smp.symbols('v4 s4')\n",
    "\n",
    "V_sigma = np.array(\n",
    "    [\n",
    "        v4,\n",
    "        Vin * np.cos(alpha_v),\n",
    "        Vin * np.sin(alpha_v) * np.cos(beta_v),\n",
    "        Vin * np.sin(alpha_v) * np.sin(beta_v),\n",
    "    ]\n",
    ")\n",
    "\n",
    "\n",
    "S_sigma = np.array(\n",
    "    [\n",
    "        s4,\n",
    "        sin * np.cos(alpha_s),\n",
    "        sin * np.sin(alpha_s) * np.cos(beta_s),\n",
    "        sin * np.sin(alpha_s) * np.sin(beta_s),\n",
    "    ]\n",
    ")"
   ]
  },
  {
   "cell_type": "code",
   "execution_count": 17,
   "metadata": {},
   "outputs": [],
   "source": [
    "dum_1=np.einsum('ij,j->i',gk,uhoo)"
   ]
  },
  {
   "cell_type": "code",
   "execution_count": 18,
   "metadata": {},
   "outputs": [],
   "source": [
    "v4=smp.solve(np.einsum(\"i,i\", dum_1, V_sigma), v4)[0]\n",
    "s4=smp.solve(np.einsum(\"i,i\", dum_1, S_sigma), s4)[0]"
   ]
  },
  {
   "cell_type": "code",
   "execution_count": 19,
   "metadata": {},
   "outputs": [],
   "source": [
    "# Tensor components calculation\n",
    "\n",
    "V_sigmain = np.array(\n",
    "    [\n",
    "        v4,\n",
    "        Vin * np.cos(alpha_v),\n",
    "        Vin * np.sin(alpha_v) * np.cos(beta_v),\n",
    "        Vin * np.sin(alpha_v) * np.sin(beta_v),\n",
    "    ]\n",
    ")\n",
    "\n",
    "\n",
    "S_sigmain = np.array(\n",
    "    [\n",
    "        s4,\n",
    "        sin * np.cos(alpha_s),\n",
    "        sin * np.sin(alpha_s) * np.cos(beta_s),\n",
    "        sin * np.sin(alpha_s) * np.sin(beta_s),\n",
    "    ]\n",
    ")"
   ]
  },
  {
   "cell_type": "code",
   "execution_count": 20,
   "metadata": {},
   "outputs": [],
   "source": [
    "#Sanity Check"
   ]
  },
  {
   "cell_type": "code",
   "execution_count": 21,
   "metadata": {},
   "outputs": [
    {
     "data": {
      "text/plain": [
       "(0, 0)"
      ]
     },
     "execution_count": 21,
     "metadata": {},
     "output_type": "execute_result"
    }
   ],
   "source": [
    "np.einsum(\"i,i\", np.einsum(\"ij,j\", gk, V_sigmain), uhoo), np.einsum(\n",
    "    \"i,i\", np.einsum(\"ij,j\", gk, S_sigmain), uhoo\n",
    ")"
   ]
  },
  {
   "cell_type": "code",
   "execution_count": 22,
   "metadata": {},
   "outputs": [],
   "source": [
    "Gamma=1/np.sqrt(1-Vin**2)"
   ]
  },
  {
   "cell_type": "code",
   "execution_count": 23,
   "metadata": {},
   "outputs": [],
   "source": [
    "Umu = (uhoo + V_sigmain) * Gamma"
   ]
  },
  {
   "cell_type": "code",
   "execution_count": 24,
   "metadata": {},
   "outputs": [],
   "source": [
    "dMult=np.einsum('i,jk,j,k->i',uhoo,gk,V_sigmain,S_sigmain)"
   ]
  },
  {
   "cell_type": "code",
   "execution_count": 25,
   "metadata": {},
   "outputs": [],
   "source": [
    "scS=Gamma*(dMult+S_sigmain)"
   ]
  },
  {
   "cell_type": "code",
   "execution_count": 26,
   "metadata": {},
   "outputs": [],
   "source": [
    "epsilon=levi_cevita_tensor(4)"
   ]
  },
  {
   "cell_type": "code",
   "execution_count": 27,
   "metadata": {},
   "outputs": [],
   "source": [
    "Sepsilon = np.einsum(\"mnjl,ij,kl->mnik\",epsilon, gk, gk)"
   ]
  },
  {
   "cell_type": "code",
   "execution_count": 28,
   "metadata": {},
   "outputs": [],
   "source": [
    "scM=1e-6"
   ]
  },
  {
   "cell_type": "code",
   "execution_count": 29,
   "metadata": {},
   "outputs": [],
   "source": [
    "SinM=scS/scM"
   ]
  },
  {
   "cell_type": "code",
   "execution_count": 30,
   "metadata": {},
   "outputs": [],
   "source": [
    "MSinM=sin/scM"
   ]
  },
  {
   "cell_type": "code",
   "execution_count": 31,
   "metadata": {},
   "outputs": [],
   "source": [
    "Suvin=np.einsum('ijkl,k,l->ij',Sepsilon,Umu,SinM)"
   ]
  },
  {
   "cell_type": "code",
   "execution_count": 32,
   "metadata": {},
   "outputs": [
    {
     "data": {
      "text/plain": [
       "array([[0, 0, 0, 0],\n",
       "       [0, 0, 3.46944695195361e-18, 0],\n",
       "       [0, -3.46944695195361e-18, 0, -20000.0066666500],\n",
       "       [0, 0, 20000.0066666500, 0]], dtype=object)"
      ]
     },
     "execution_count": 32,
     "metadata": {},
     "output_type": "execute_result"
    }
   ],
   "source": [
    "Suvin"
   ]
  },
  {
   "cell_type": "code",
   "execution_count": 33,
   "metadata": {},
   "outputs": [],
   "source": [
    "SRijkl=kerr_riemann_tensor(a0,r0,np.pi/2,1,'llll')"
   ]
  },
  {
   "cell_type": "code",
   "execution_count": null,
   "metadata": {},
   "outputs": [],
   "source": []
  }
 ],
 "metadata": {
  "kernelspec": {
   "display_name": "base",
   "language": "python",
   "name": "python3"
  },
  "language_info": {
   "codemirror_mode": {
    "name": "ipython",
    "version": 3
   },
   "file_extension": ".py",
   "mimetype": "text/x-python",
   "name": "python",
   "nbconvert_exporter": "python",
   "pygments_lexer": "ipython3",
   "version": "3.10.12"
  }
 },
 "nbformat": 4,
 "nbformat_minor": 2
}
