{
 "cells": [
  {
   "cell_type": "code",
   "execution_count": 1,
   "metadata": {},
   "outputs": [],
   "source": [
    "using DifferentialEquations\n",
    "using Plots, LaTeXStrings\n",
    "using StatsFuns: log1pexp,logtwo"
   ]
  },
  {
   "cell_type": "code",
   "execution_count": 2,
   "metadata": {},
   "outputs": [
    {
     "data": {
      "text/plain": [
       "logcosh (generic function with 1 method)"
      ]
     },
     "metadata": {},
     "output_type": "display_data"
    }
   ],
   "source": [
    "function logcosh(x::Real)\n",
    "    abs_x = abs(x)\n",
    "    return abs_x + log1pexp(-2 * abs_x) - logtwo\n",
    "end"
   ]
  },
  {
   "cell_type": "code",
   "execution_count": 3,
   "metadata": {},
   "outputs": [
    {
     "data": {
      "text/plain": [
       "evolve! (generic function with 1 method)"
      ]
     },
     "metadata": {},
     "output_type": "display_data"
    }
   ],
   "source": [
    "function evolve!(dx,x,p,t)\n",
    "    \"\"\"\n",
    "    Function for solving Differential Equation\n",
    "    Args:\n",
    "        t (Float64): Time Step\n",
    "        x (Vector{Float64}): Shape (n,)\n",
    "\n",
    "    Returns:\n",
    "        Output (Vector{Float64}): Shape (n,) \n",
    "    \"\"\"\n",
    "    w, z, phi, pw, pz, pphi = x\n",
    "    alpha=p[1]\n",
    "    dx[1]=dw = pw\n",
    "    dx[2]=dz = pz\n",
    "    dx[3]=dphi = L / (mu * w^2)\n",
    "\n",
    "    dx[4]=dpw = -mu * (-L^2 / (mu^2 * w^3) + M * w / ((w^2 + z^2)^(3 / 2)))\n",
    "    dx[5]=dpz = -mu * (M * z / ((w^2 + z^2)^(3 / 2)) + alpha * tanh(z / z0))\n",
    "    dx[6]=dpphi = 0.0\n",
    "\n",
    "    # return [dw, dz, dphi, dpw, dpz, dpphi]\n",
    "end"
   ]
  },
  {
   "cell_type": "code",
   "execution_count": 4,
   "metadata": {},
   "outputs": [
    {
     "data": {
      "text/plain": [
       "evolve_jac! (generic function with 1 method)"
      ]
     },
     "metadata": {},
     "output_type": "display_data"
    }
   ],
   "source": [
    "function evolve_jac!(J, x, p, t)\n",
    "    w, z, phi, pw, pz, pphi = x\n",
    "    alpha = p[1]\n",
    "    # Calculate the derivatives\n",
    "    dhdwdw = -mu * (3 * L^2 / ((mu^2) * w^4) - 3 * M * w^2 / ((w^2 + z^2)^(5/2)) + M / ((w^2 + z^2)^(3/2)))\n",
    "    dhdwdz = 3 * M * mu * w * z / ((w^2 + z^2)^(5/2))\n",
    "    dhdzdz = -mu * (-3 * M * z^2 / ((w^2 + z^2)^(5/2)) + M / ((w^2 + z^2)^(3/2)) + alpha / ((cosh(z / z0))^2) / z0)\n",
    "\n",
    "    J = [\n",
    "        0.0 0.0 0.0 1.0 0.0 0.0\n",
    "        0.0 0.0 0.0 0.0 1.0 0.0\n",
    "        -2*L/(mu*w^3) 0.0 0.0 0.0 0.0 1/(mu*w^2)\n",
    "        dhdwdw dhdwdz 0.0 0.0 0.0 2*L/(mu*w^3)\n",
    "        dhdwdz dhdzdz 0.0 0.0 0.0 0.0\n",
    "        0.0 0.0 0.0 0.0 0.0 0.0\n",
    "    ]\n",
    "\n",
    "    nothing\n",
    "end\n"
   ]
  },
  {
   "cell_type": "code",
   "execution_count": 5,
   "metadata": {},
   "outputs": [
    {
     "data": {
      "text/plain": [
       "H (generic function with 1 method)"
      ]
     },
     "metadata": {},
     "output_type": "display_data"
    }
   ],
   "source": [
    "function H(mu, ics, alpha)\n",
    "    \"\"\"\n",
    "    Args:\n",
    "        mu (Float64): Mass of the Test Particle\n",
    "        ics (Matrix{Float64}): The Phase Space Coordinates of the particle\n",
    "                        Shape(n,4)\n",
    "\n",
    "    Returns:\n",
    "        Energy of the particle (Vector{Float64}): Shape (n,)\n",
    "    \"\"\"\n",
    "    if ndims(ics) == 1\n",
    "        w, z, phi, pw, pz, pphi = ics[1], ics[2], ics[3], ics[4], ics[5], ics[6]\n",
    "    else\n",
    "        w, z, phi, pw, pz, pphi = ics[:, 1], ics[:, 2], ics[:, 3], ics[:, 4], ics[:, 5], ics[:, 6]\n",
    "    end\n",
    "\n",
    "    L = pphi\n",
    "\n",
    "    return mu * (pw^2 / (2 * mu) + pz^2 / (2 * mu) + L^2 / (2 * mu^2 * w^2) - M / sqrt(w^2 + z^2) + alpha * z0 * logcosh(z / z0))\n",
    "end"
   ]
  },
  {
   "cell_type": "code",
   "execution_count": 41,
   "metadata": {},
   "outputs": [],
   "source": [
    "mu = 1.0 #! This Value was not given in paper. I solved it \n",
    "#! using the constraint on the total energy\n",
    "M = 1.0\n",
    "L = 1.0\n",
    "z0 = 0.5\n",
    "alpha = 0.01  #TODO Important Parameter. \n",
    "p = [alpha];"
   ]
  },
  {
   "cell_type": "code",
   "execution_count": null,
   "metadata": {},
   "outputs": [],
   "source": [
    "ics = [2.5, 0.0, 0.0, 0.0, 0.49, L]\n",
    "t = 0:1:100000;\n",
    "t_span = (0, last(t));"
   ]
  },
  {
   "cell_type": "code",
   "execution_count": null,
   "metadata": {},
   "outputs": [],
   "source": [
    "f! = ODEFunction(evolve!, jac=evolve_jac!)\n",
    "prob = ODEProblem(f!, ics, t_span, p);"
   ]
  },
  {
   "cell_type": "code",
   "execution_count": null,
   "metadata": {},
   "outputs": [],
   "source": [
    "# Define the callback\n",
    "poincare(u, t, integrator) = u[2]  # Trigger when the second component becomes zero\n",
    "affect!(integrator) = integrator.u[2] = 0.0  # Reset the second component to zero\n",
    "cb = ContinuousCallback(poincare, affect!);"
   ]
  },
  {
   "cell_type": "code",
   "execution_count": null,
   "metadata": {},
   "outputs": [],
   "source": [
    "sol = solve(prob,reltol = 1e-11, abstol=1e-11, callback=cb, maxiters=1e6);"
   ]
  },
  {
   "cell_type": "code",
   "execution_count": null,
   "metadata": {},
   "outputs": [],
   "source": [
    "# energy=[H(mu,sol.u[i],alpha) for i in 1:length(sol.u)];\n",
    "# rel_e=(energy.-energy[1])/energy[1];\n",
    "# plot(rel_e, label=\"Relative Energy Difference\")\n",
    "# xlabel!(\"Time Step\")\n",
    "# ylabel!(\"Relative Energy\")\n",
    "# title!(\"Relative Energy Difference vs. Time Step\")"
   ]
  },
  {
   "cell_type": "code",
   "execution_count": null,
   "metadata": {},
   "outputs": [],
   "source": [
    "poi_points=filter(x -> x[5] >= 0 && x[2] == 0, sol.u);"
   ]
  },
  {
   "cell_type": "code",
   "execution_count": null,
   "metadata": {},
   "outputs": [],
   "source": [
    "w = [v[1] for v in poi_points];\n",
    "vw = [v[4] for v in poi_points];"
   ]
  },
  {
   "cell_type": "code",
   "execution_count": null,
   "metadata": {},
   "outputs": [],
   "source": [
    "plot(w,vw, seriestype=:scatter,ms=0.5, legend=false)\n",
    "xlabel!(\"w\")\n",
    "ylabel!(L\"v_z\")\n",
    "\n",
    "# Add a title with LaTeX\n",
    "title!(latexstring(\"\\\\mathrm{Poincare\\\\, \\\\, Plot\\\\, \\\\, when\\\\, z=0\\\\, and\\\\, v_z>0\\\\,}\"))"
   ]
  },
  {
   "cell_type": "code",
   "execution_count": null,
   "metadata": {},
   "outputs": [],
   "source": []
  }
 ],
 "metadata": {
  "kernelspec": {
   "display_name": "Julia 1.8.5",
   "language": "julia",
   "name": "julia-1.8"
  },
  "language_info": {
   "file_extension": ".jl",
   "mimetype": "application/julia",
   "name": "julia",
   "version": "1.8.5"
  }
 },
 "nbformat": 4,
 "nbformat_minor": 2
}
